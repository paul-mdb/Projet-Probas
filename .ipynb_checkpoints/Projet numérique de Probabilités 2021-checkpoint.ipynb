{
 "cells": [
  {
   "cell_type": "markdown",
   "metadata": {},
   "source": [
    "## Instructions {-}\n",
    "Ce sujet est constitué de deux parties : la partie 1 correspond au sujet donné l'an dernier, dont la correction vous est donnée, la partie 2 constitue la partie qui sera évaluée et se place dans la continuité de la partie 1."
   ]
  },
  {
   "cell_type": "markdown",
   "metadata": {},
   "source": [
    "# Enoncé du problème (Partie 1)\n",
    "\n",
    "L'objectif de ce projet est d'estimer la longueur de câble sous-marin nécessaire pour relier deux côtes $A$ et $B$  en utilisant des simulations conditionnelles.\n",
    "\n",
    "\n",
    "Le câble reposera sur le fond marin dont la profondeur est inconnue.\n",
    "Le segment $[AB]$ est discrétisé par une séquence de (N+1) points. On pose $x_0=A$ et pour $i=1,\\dots,N$, $$x_i=x_0+i\\Delta$$ où $$\\Delta = \\frac{AB}{N}$$ de telle sorte que $x_N=B$.\n",
    "On note $z(x)$ la profondeur du fond marin au point $x$ de telle sorte \n",
    "qu'on pourra estimer la longueur totale de câble nécessaire par la somme \n",
    "des longueurs sur les segments de la discrétisation :\n",
    "\n",
    "$$l=\\sum_{i=1}^N\\sqrt{\\Delta^2+(z(x_i)-z(x_{i-1}))^2}.$$\n",
    "\n",
    "Enfin, notons que l'on dispose d'un ensemble de $n$ observations de la \n",
    "profondeur que l'on supposera situées sur des points de discrétisation $z(x_{j_1}),\\dots,z(x_{j_n})$.\n",
    "\n",
    "\n",
    "On adopte un modèle probabiliste pour la profondeur. On suppose que le vecteur des \n",
    "profondeurs sur les points de discrétisation \n",
    "$\\mathbf{z}=(z(x_0),\\dots,z(x_N))$ est la réalisation\n",
    "d'un vecteur aléatoire gaussien $\\mathbf{Z}=(Z(x_0),\\dots,Z(x_N))$ \n",
    "dont le vecteur d'espérance ne contient qu'une seule valeur $\\mu$ \n",
    "répétée $N+1$ fois et dont la matrice de covariance $\\Sigma$ a pour termes $\\sigma_{ij}$\n",
    "définis par $\\sigma_{ij}=C(|x_i-x_j|)$ où $C$ est une\n",
    "fonction décroissante, traduisant le fait que deux points \n",
    "géographiquement proches ont tendance à avoir des profondeurs plus similaires que deux points éloignés.\n",
    "\n",
    "On supposera que la matrice de covariance ainsi \n",
    "générée est définie-positive (en fait, $C$ sera choisie parmi les fonctions qui, \n",
    "appliquées aux termes d'une matrice de distance, produisent des matrices définie-positives). \n",
    "\n",
    "Si on note $L$ la variable aléatoire donnant la longueur de cable nécessaire : \n",
    "$$L=\\sum_{i=1}^N\\sqrt{\\Delta^2+(Z(x_i)-Z(x_{i-1}))^2},$$\n",
    "un bon estimateur de $L$ est fourni par l'espérance conditionnelle \n",
    "\n",
    "$$L^\\star=E[L|Z(x_{j_1})=z(x_{j_1}),\\dots,Z(x_{j_n})=z(x_{j_n})].$$\n",
    "                                                                              \n",
    "Cependant, cette quantité est difficilement accessible par le calcul. \n",
    "On va donc avoir recours à des\n",
    "simulations conditionnelles. C'est-à-dire que l'on va simuler \n",
    "un nombre $K$ de réalités (disons des réalisations du modèle \n",
    "probabiliste choisi), et sur chacune d'entre elle, \n",
    "la quantité de câble nécessaire sera évaluée. \n",
    "On disposera ainsi d'un échantillon $l_{(1)},\\dots,l_{(K)}$ de \n",
    "longueures simulées. Puis on approchera l'espérance conditionnelle  par \n",
    "$$L^\\star=\\frac1{K}\\sum_{k=1}^K l_{(k)}.$$\n",
    "\n",
    "L'objectif de ce projet est donc d'écrire un code permettant \n",
    "d'effectuer cette simulation conditionnelle, puis de l'appliquer \n",
    "au jeu de données fourni et d'en déduire une estimation de la longueur de câble nécessaire."
   ]
  },
  {
   "cell_type": "markdown",
   "metadata": {},
   "source": [
    "## Questions théoriques\n",
    "\n",
    "1. Quel théorème du cours nous autorise-t-il à estimer l'espérance conditionnelle par la moyenne empirique de simulations conditionnelles ?\n",
    "\n",
    "*la loi forte des grands nombres, cf [Proba IV p.16](https://boisgera.github.io/CDIS/output/Probabilit%C3%A9%20IV.pdf), en vérifiant que $L$ est bien intégrable*\n",
    "\n",
    "2. Rappeler la loi conditionnelle du vecteur des composantes de $\\mathbf{Z}$ correspondant aux points de discrétisation\n",
    "sans observation, connaissant les valeurs prises par les composantes aux sites d'observation.\n",
    "\n",
    "*cf. [Proba III p.18](https://boisgera.github.io/CDIS/output/Probabilit%C3%A9%20III.pdf),*\n",
    "\n",
    "3. Si $\\mathbf{Y}=(Y_1,\\dots,Y_p)$ est un vecteur de composantes gaussiennes indépendantes, toutes d'espérance nulle et de variance 1, \n",
    "quelle est la loi du vecteur $\\mathbf{Z}=m+R\\mathbf{Y}$ où $R$ est une matrice $p\\times p$ et $m$ est un vecteur de taille $p$ ?\n",
    "\n",
    "*cf. [Proba V p.12](https://cloud.mines-paristech.fr/index.php/s/GLDwtTAMOJCYk3i/download)*\n",
    "\n",
    "4. En déduire un algorithme de simulation conditionnelle.\n",
    "\n",
    "*Appliquer l'algorithme de la q.3 à la loi conditionnelle (on calculera en particulier l'espérance conditionnelle de $\\mathbf{Z}$ sachant les données et la décomposition de Cholesky de la matrice de covariance conditionnelle sachant les données).*"
   ]
  },
  {
   "cell_type": "markdown",
   "metadata": {},
   "source": [
    "## Données du problème\n",
    "Conventionnellement, $A$ est l'origine, $B=500$, $N=100$.\n",
    "\n",
    "Les données $$\\begin{array}{c|r}i & z(x_i)\\\\\n",
    "\\hline\n",
    "0 & 0\\\\\n",
    "20 & -4\\\\\n",
    "40 & -12.8\\\\\n",
    "60 & -1\\\\\n",
    "80 & -6.5\\\\\n",
    "100 & 0\\end{array}$$\n",
    "\n",
    "L'espérance de chaque composante du vecteur aléatoire $\\mathbf{Z}$ est donnée par $\\mu=-5.$\n",
    "\n",
    "La fonction $C$ est définie par $$C(h)=\\sigma^2 e^{-|h|/a},$$\n",
    "\n",
    "où $|h|$ correspond à la distance entre deux points, $a=50$ et $\\sigma^2=12$.\n"
   ]
  },
  {
   "cell_type": "markdown",
   "metadata": {},
   "source": [
    "## Implémentation"
   ]
  },
  {
   "cell_type": "markdown",
   "metadata": {},
   "source": [
    "### Préambule"
   ]
  },
  {
   "cell_type": "code",
   "execution_count": 1,
   "metadata": {},
   "outputs": [],
   "source": [
    "#Chargement de dépendances\n",
    "\n",
    "import numpy as np\n",
    "import matplotlib.pyplot as plt\n",
    "\n",
    "#Discrétisation\n",
    "A=0\n",
    "B=500\n",
    "N=101 #Nombre de points de discrétisation\n",
    "Delta = (B-A)/(N-1)\n",
    "discretization_indexes = np.arange(N)\n",
    "discretization = discretization_indexes*Delta\n",
    "#Paramètres du modèle\n",
    "\n",
    "mu=-5\n",
    "a = 50\n",
    "sigma2 = 12\n",
    "\n",
    "#Données\n",
    "\n",
    "observation_indexes = [0,20,40,60,80,100]\n",
    "depth = np.array([0,-4,-12.8,-1,-6.5,0])\n",
    "\n",
    "#Indices des composantes correspondant aux observations et aux componsantes non observées\n",
    "\n",
    "unknown_indexes=list(set(discretization_indexes)-set(observation_indexes))"
   ]
  },
  {
   "cell_type": "markdown",
   "metadata": {},
   "source": [
    "### Questions\n",
    "\n",
    "1. Ecrire une fonction qui prend en argument la distance entre les points, le paramètre $a$, et le paramètre $\\sigma^2$, et qui retourne la covariance entre deux points.\n",
    "On pourra fournir une matrice de distance à cette fonction. Dans ce cas, la fonction renverra la matrice de covariance."
   ]
  },
  {
   "cell_type": "code",
   "execution_count": 2,
   "metadata": {},
   "outputs": [],
   "source": [
    "def Covexp(dist,rangeval,sigmaval):\n",
    "    return sigmaval * np.exp(-dist/rangeval)"
   ]
  },
  {
   "cell_type": "markdown",
   "metadata": {},
   "source": [
    "2. Calculer la matrice de distance."
   ]
  },
  {
   "cell_type": "code",
   "execution_count": 3,
   "metadata": {},
   "outputs": [],
   "source": [
    "distmat=abs(np.subtract.outer(discretization,discretization))"
   ]
  },
  {
   "cell_type": "markdown",
   "metadata": {},
   "source": [
    "3. Calculer la matrice de covariance du vecteur $\\mathbf{Z}=(Z(x_0),\\dots,Z(x_N))$."
   ]
  },
  {
   "cell_type": "code",
   "execution_count": 4,
   "metadata": {},
   "outputs": [],
   "source": [
    "Sigma=Covexp(distmat,a,sigma2)"
   ]
  },
  {
   "cell_type": "markdown",
   "metadata": {},
   "source": [
    "4. Extraire les 3 matrices de covariance suivantes :\n",
    "\n",
    " * entre les observations\n",
    "\n",
    " * entre les observations et les inconnues\n",
    "\n",
    " * entre les inconnues\n"
   ]
  },
  {
   "cell_type": "code",
   "execution_count": 5,
   "metadata": {},
   "outputs": [],
   "source": [
    "SigmaObs = Sigma[observation_indexes,:][:,observation_indexes]\n",
    "SigmaObsUnknown = Sigma[observation_indexes,:][:,unknown_indexes]\n",
    "SigmaUnknown = Sigma[unknown_indexes,:][:,unknown_indexes]"
   ]
  },
  {
   "cell_type": "markdown",
   "metadata": {},
   "source": [
    "5. Calculer l'espérance conditionnelle des composantes non observées connaissant les observations et la représenter avec les données."
   ]
  },
  {
   "cell_type": "code",
   "execution_count": 6,
   "metadata": {},
   "outputs": [],
   "source": [
    "invSigma = np.linalg.inv(SigmaObs) \n",
    "Ec= mu+np.matmul(np.transpose(SigmaObsUnknown),np.matmul(np.linalg.inv(SigmaObs),depth-mu))"
   ]
  },
  {
   "cell_type": "code",
   "execution_count": 7,
   "metadata": {},
   "outputs": [
    {
     "data": {
      "image/png": "[encoded data removed]",
      "text/plain": [
       "<Figure size 432x288 with 1 Axes>"
      ]
     },
     "metadata": {
      "needs_background": "light"
     },
     "output_type": "display_data"
    }
   ],
   "source": [
    "allval1 = np.zeros(N)\n",
    "allval1[unknown_indexes]=Ec\n",
    "allval1[observation_indexes]=depth\n",
    "plt.plot(discretization,allval1)\n",
    "plt.plot(discretization[observation_indexes], depth, 'ro')\n",
    "plt.show()"
   ]
  },
  {
   "cell_type": "markdown",
   "metadata": {},
   "source": [
    "6. Calculer la matrice de variance conditionnelle et tracer sa diagonale (variance conditionnelle) en fonction de la position. Commenter."
   ]
  },
  {
   "cell_type": "code",
   "execution_count": 8,
   "metadata": {},
   "outputs": [],
   "source": [
    "SigmaCond = SigmaUnknown - np.matmul(np.transpose(SigmaObsUnknown),np.matmul(np.linalg.inv(SigmaObs),SigmaObsUnknown))"
   ]
  },
  {
   "cell_type": "code",
   "execution_count": 9,
   "metadata": {},
   "outputs": [
    {
     "data": {
      "image/png": "[encoded data removed]",
      "text/plain": [
       "<Figure size 432x288 with 1 Axes>"
      ]
     },
     "metadata": {
      "needs_background": "light"
     },
     "output_type": "display_data"
    }
   ],
   "source": [
    "allval2 = np.zeros(N)\n",
    "allval2[unknown_indexes]=np.diag(SigmaCond)\n",
    "plt.plot(discretization,allval2)\n",
    "plt.plot(discretization[observation_indexes], np.zeros(np.shape(observation_indexes)[0]), 'ro')\n",
    "plt.show()"
   ]
  },
  {
   "cell_type": "markdown",
   "metadata": {},
   "source": [
    "*On voit ici que la variance est nulle aux points de données (puisque la valeur est fixée) puis qu'elle augmente lorsqu'on s'éloigne des données*"
   ]
  },
  {
   "cell_type": "markdown",
   "metadata": {},
   "source": [
    "7. Effectuer une simulation conditionnelle. Sur un même graphique, tracer la simulation ainsi que les données et l'espérance conditionnelle. Commenter."
   ]
  },
  {
   "cell_type": "code",
   "execution_count": 10,
   "metadata": {},
   "outputs": [],
   "source": [
    "Cholesky = np.linalg.cholesky(SigmaCond)\n",
    "x = np.random.normal(0,1,np.shape(unknown_indexes)[0])\n",
    "simu = Ec + np.matmul(Cholesky,x)"
   ]
  },
  {
   "cell_type": "code",
   "execution_count": 11,
   "metadata": {
    "scrolled": true
   },
   "outputs": [
    {
     "data": {
      "image/png": "[encoded data removed]",
      "text/plain": [
       "<Figure size 432x288 with 1 Axes>"
      ]
     },
     "metadata": {
      "needs_background": "light"
     },
     "output_type": "display_data"
    }
   ],
   "source": [
    "allval3 = np.zeros(N)\n",
    "allval3[unknown_indexes]=simu\n",
    "allval3[observation_indexes]=depth\n",
    "plt.plot(discretization,allval3)\n",
    "plt.plot(discretization,allval1)\n",
    "plt.plot(discretization[observation_indexes], depth, 'ro')\n",
    "plt.show()"
   ]
  },
  {
   "cell_type": "markdown",
   "metadata": {},
   "source": [
    "*l'espérance conditionnelle est lisse car c'est la fonction des données qui minimise la variance ; la simulation conditionnelle reproduit les fluctuations du modèle et donc l'aspect du fond marin*"
   ]
  },
  {
   "cell_type": "markdown",
   "metadata": {},
   "source": [
    "8. Ecrire une fonction qui calcule la longueur du câble en fonction du vecteur des profondeurs et du pas de discrétisation."
   ]
  },
  {
   "cell_type": "code",
   "execution_count": 12,
   "metadata": {},
   "outputs": [],
   "source": [
    "def length(z,delta):\n",
    "    return sum(np.sqrt(Delta**2+(z[1:N]-z[0:-1])**2))"
   ]
  },
  {
   "cell_type": "markdown",
   "metadata": {},
   "source": [
    "9. Utiliser cette fonction pour calculer la longueur du câble à partir de 100 simulations. Comparer l'espérance conditionnelle (estimée) de la longueur avec la longueur de l'espérance conditionnelle."
   ]
  },
  {
   "cell_type": "code",
   "execution_count": 13,
   "metadata": {},
   "outputs": [],
   "source": [
    "K=100000\n",
    "result = np.zeros(K)\n",
    "for i in range(K):\n",
    "    x=np.random.normal(0,1,np.shape(unknown_indexes)[0])\n",
    "    allval3[unknown_indexes]=Ec + np.matmul(Cholesky,x)\n",
    "    result[i]=length(allval3,Delta)\n"
   ]
  },
  {
   "cell_type": "code",
   "execution_count": 14,
   "metadata": {},
   "outputs": [
    {
     "data": {
      "text/plain": [
       "522.4499074773264"
      ]
     },
     "execution_count": 14,
     "metadata": {},
     "output_type": "execute_result"
    }
   ],
   "source": [
    "sum(result)/K"
   ]
  },
  {
   "cell_type": "code",
   "execution_count": 15,
   "metadata": {},
   "outputs": [
    {
     "data": {
      "text/plain": [
       "501.6468416918411"
      ]
     },
     "execution_count": 15,
     "metadata": {},
     "output_type": "execute_result"
    }
   ],
   "source": [
    "length(allval1,Delta)"
   ]
  },
  {
   "cell_type": "markdown",
   "metadata": {},
   "source": [
    "*On donne ici directement les résultats pour 100000 simulations (comparer la vitesse d'éxécution avec votre code pour voir l'intérêt de la vectorisation).*\n",
    "\n",
    "*On voit ici que la longueur donnée par l'espérance conditionnelle est bien moindre que la longueur d'une simulation conditionnelle. Ceci est dû au fait que la simulation conditionnelle va reproduire les fluctuations attendues, au contraire de l'espérance conditionnelle qui minimise la variance.*\n",
    "\n",
    "*NB : On remarquera que c'est le seul endroit où on a utilisé une boucle dans cette correction. On aurait pu s'en passer en utilisant notamment les outils de la librairie Pandas mais le code est plus lisible ainsi.*"
   ]
  },
  {
   "cell_type": "markdown",
   "metadata": {},
   "source": [
    "10. Représenter la suite $M_n$ des moyennes des longueurs de câbles en fonction du nombre de simulations. Commenter."
   ]
  },
  {
   "cell_type": "code",
   "execution_count": 16,
   "metadata": {},
   "outputs": [
    {
     "data": {
      "image/png": "[encoded data removed]",
      "text/plain": [
       "<Figure size 432x288 with 1 Axes>"
      ]
     },
     "metadata": {
      "needs_background": "light"
     },
     "output_type": "display_data"
    }
   ],
   "source": [
    "indice_simu = 1+np.arange(K)\n",
    "plt.plot(indice_simu,np.cumsum(result)/indice_simu)\n",
    "plt.show()"
   ]
  },
  {
   "cell_type": "markdown",
   "metadata": {},
   "source": [
    "*Comme attendu d'après la LFGN, on observe une stabilisation de la valeur moyenne. Les variations sont imperceptibles après quelques dizaines de milliers de simulations*"
   ]
  },
  {
   "cell_type": "markdown",
   "metadata": {},
   "source": [
    "11. Représenter l'histogramme des longueurs de câbles générées."
   ]
  },
  {
   "cell_type": "code",
   "execution_count": 17,
   "metadata": {},
   "outputs": [
    {
     "data": {
      "image/png": "[encoded data removed]",
      "text/plain": [
       "<Figure size 432x288 with 1 Axes>"
      ]
     },
     "metadata": {
      "needs_background": "light"
     },
     "output_type": "display_data"
    }
   ],
   "source": [
    "plt.hist(result,50,density=True)\n",
    "plt.show()"
   ]
  },
  {
   "cell_type": "markdown",
   "metadata": {},
   "source": [
    "*L'histogramme ressemble à une densité gaussienne, avec néanmoins une légère dissymétrie (plus de valeurs fortes).*"
   ]
  },
  {
   "cell_type": "markdown",
   "metadata": {},
   "source": [
    "12. Donner un intervalle de confiance à 95% de la longueur du câble par 2 méthodes différentes. Commenter."
   ]
  },
  {
   "cell_type": "markdown",
   "metadata": {},
   "source": [
    "*1ère méthode : par approximation gaussienne. L'histogramme précédent suggère qu'une loi gaussienne peut bien représenter la loi conditionnelle de la longueur du cable. On obtient un intervalle de confiance en calculant la moyenne (milieu de l'intervalle) et l'écart type de l'échantillon de longueurs de câble puis en appliquant la formule du cours.*"
   ]
  },
  {
   "cell_type": "code",
   "execution_count": 18,
   "metadata": {},
   "outputs": [
    {
     "data": {
      "text/plain": [
       "[516.7922952456407, 528.1075197090121]"
      ]
     },
     "execution_count": 18,
     "metadata": {},
     "output_type": "execute_result"
    }
   ],
   "source": [
    "Ln = sum(result)/K\n",
    "sigman = np.std(result)\n",
    "[Ln - sigman*1.96,Ln + sigman*1.96]"
   ]
  },
  {
   "cell_type": "markdown",
   "metadata": {},
   "source": [
    "*2e méthode : on extrait les quantiles à 2.5% et 97.5% de l'échantillon, c'est-à-dire les valeurs $x_\\alpha$ pour $\\alpha \\in \\{0.025 ; 0.975\\}$telles que* $$\\mathbb{P}(L<x_\\alpha) \\approx \\frac{1}{n}\\sum_{i=1}^N 1_{\\{L_i<x_\\alpha\\}}$$"
   ]
  },
  {
   "cell_type": "code",
   "execution_count": 19,
   "metadata": {},
   "outputs": [
    {
     "data": {
      "text/plain": [
       "array([517.17306516, 528.42886018])"
      ]
     },
     "execution_count": 19,
     "metadata": {},
     "output_type": "execute_result"
    }
   ],
   "source": [
    "np.quantile(result,[0.025,0.975])"
   ]
  },
  {
   "cell_type": "markdown",
   "metadata": {},
   "source": [
    "*ATTENTION : ici l'utilisation du TCL tel qu'exposé au début du chapitre 5 fournissait un intervalle de confiance de l'**espérance de la longueur de câble** et non de la **longueur de câble** (erreur fréquente).*\n",
    "\n",
    "*On voit par ailleurs que la 2e méthode est plus précise car elle est basée directement sur la loi empirique de l'échantillon*"
   ]
  },
  {
   "cell_type": "markdown",
   "metadata": {},
   "source": [
    "13. Donner une estimation de la probabilité que la longueur du câble dépasse 525 m."
   ]
  },
  {
   "cell_type": "code",
   "execution_count": 20,
   "metadata": {},
   "outputs": [
    {
     "data": {
      "text/plain": [
       "0.18581"
      ]
     },
     "execution_count": 20,
     "metadata": {},
     "output_type": "execute_result"
    }
   ],
   "source": [
    "np.mean(result>525)"
   ]
  },
  {
   "cell_type": "markdown",
   "metadata": {},
   "source": [
    "14. Reprendre les questions précédentes avec 1000, 10000 puis 100000 simulations. Commenter"
   ]
  },
  {
   "cell_type": "markdown",
   "metadata": {},
   "source": [
    "*cf. le commentaire de la question 10. On observe une stabilisation progressive des estimateurs des différentes quantités calculées : moyennes, quantiles, probabilité de dépassement de seuil.*"
   ]
  },
  {
   "cell_type": "markdown",
   "metadata": {},
   "source": [
    "# Enoncé 2021 (Partie 2)\n",
    "\n",
    "Nous nous plaçons dans le même cadre que ci-dessus. Nous tenons pour acquis les résultats précédents et allons maintenant approfondir l'analyse."
   ]
  },
  {
   "cell_type": "markdown",
   "metadata": {},
   "source": [
    "## Valeurs positives\n",
    "\n",
    "1. A la question 7 de la partie 1, on peut s'apercevoir que certains profils de profondeur présentent des valeurs positives, ce qui n'a pas de sens si on considère qu'il n'y a pas de partie émergée entre les deux côtes. Proposer et implémenter un algorithme de type rejet qui ne génèrera que des valeurs négatives. Représenter un profil de profondeur généré."
   ]
  },
  {
   "cell_type": "code",
   "execution_count": 21,
   "metadata": {},
   "outputs": [],
   "source": [
    "def rejet():\n",
    "    simu = np.ones(np.shape(unknown_indexes))\n",
    "    while np.any((simu > 0)) :\n",
    "        x = np.random.normal(0,1,np.shape(unknown_indexes)[0])\n",
    "        simu = Ec + np.matmul(Cholesky,x)\n",
    "    return simu"
   ]
  },
  {
   "cell_type": "code",
   "execution_count": 22,
   "metadata": {},
   "outputs": [
    {
     "data": {
      "image/png": "[encoded data removed]",
      "text/plain": [
       "<Figure size 432x288 with 1 Axes>"
      ]
     },
     "metadata": {
      "needs_background": "light"
     },
     "output_type": "display_data"
    }
   ],
   "source": [
    "simu = rejet()\n",
    "allval3 = np.zeros(N)\n",
    "allval3[unknown_indexes]=simu\n",
    "allval3[observation_indexes]=depth\n",
    "plt.plot(discretization,allval3)\n",
    "plt.plot(discretization,allval1)\n",
    "plt.plot(discretization[observation_indexes], depth, 'ro')\n",
    "plt.show();"
   ]
  },
  {
   "cell_type": "markdown",
   "metadata": {},
   "source": [
    "2. L'emploi de cet algorithme a-t-il un impact sur la valeur moyenne de la longueur de câble ? Sur l'histogramme des longueurs de câble ? Sur l'intervalle de confiance obtenu par la méthode des quantiles ? Sur la probabilité de dépassement du seuil de 525 m? Donner une estimation du taux de rejet de l'algorithme. Considérer 10000 simulations."
   ]
  },
  {
   "cell_type": "code",
   "execution_count": 23,
   "metadata": {},
   "outputs": [],
   "source": [
    "K=10000\n",
    "result2 = np.zeros(K)\n",
    "for i in range(K):\n",
    "    simu = rejet()\n",
    "    allval3[unknown_indexes] = simu\n",
    "    result2[i]=length(allval3,Delta)"
   ]
  },
  {
   "cell_type": "code",
   "execution_count": 24,
   "metadata": {},
   "outputs": [
    {
     "name": "stdout",
     "output_type": "stream",
     "text": [
      "nouvelle moyenne : 521.7514736606925\n",
      "ancienne moyenne : 522.4499074773264\n"
     ]
    }
   ],
   "source": [
    "print(f\"nouvelle moyenne : {sum(result2)/K}\")\n",
    "print(f\"ancienne moyenne : {sum(result)/100000}\")"
   ]
  },
  {
   "cell_type": "markdown",
   "metadata": {},
   "source": [
    "La moyenne de la longueur de câble est légèrement plus faible. "
   ]
  },
  {
   "cell_type": "code",
   "execution_count": 25,
   "metadata": {},
   "outputs": [
    {
     "data": {
      "image/png": "[encoded data removed]",
      "text/plain": [
       "<Figure size 432x288 with 1 Axes>"
      ]
     },
     "metadata": {
      "needs_background": "light"
     },
     "output_type": "display_data"
    }
   ],
   "source": [
    "plt.hist(result, 50, density=True, histtype = 'step', color = \"red\", label=\"simulation précédente\")\n",
    "plt.hist(result2,50,density=True,histtype = 'step', color = \"blue\", label = \"nouvelle simulation\")\n",
    "plt.legend()\n",
    "plt.show()"
   ]
  },
  {
   "cell_type": "markdown",
   "metadata": {},
   "source": [
    "L'histogramme des longueurs des cables est légèrement décalé vers la gauche. Uniquement la valeur moyenne a changé."
   ]
  },
  {
   "cell_type": "code",
   "execution_count": 26,
   "metadata": {},
   "outputs": [
    {
     "name": "stdout",
     "output_type": "stream",
     "text": [
      "[517.17306516 528.42886018]\n",
      "[516.57515121 527.55979611]\n"
     ]
    }
   ],
   "source": [
    "print(np.quantile(result,[0.025,0.975]))\n",
    "print(np.quantile(result2,[0.025,0.975]))"
   ]
  },
  {
   "cell_type": "markdown",
   "metadata": {},
   "source": [
    "L'intervalle de confiance obtenu par la méthode des quantiles est également décalé vers la gauche."
   ]
  },
  {
   "cell_type": "code",
   "execution_count": 27,
   "metadata": {},
   "outputs": [
    {
     "name": "stdout",
     "output_type": "stream",
     "text": [
      "0.18581\n",
      "0.1304\n"
     ]
    }
   ],
   "source": [
    "print(np.mean(result>525))\n",
    "print(np.mean(result2>525))"
   ]
  },
  {
   "cell_type": "markdown",
   "metadata": {},
   "source": [
    "La probabilité de dépassement du seuil de 525m a diminué."
   ]
  },
  {
   "cell_type": "code",
   "execution_count": 28,
   "metadata": {},
   "outputs": [
    {
     "name": "stdout",
     "output_type": "stream",
     "text": [
      "Le taux de rejet est de 0.9613.\n"
     ]
    }
   ],
   "source": [
    "n=0\n",
    "for k in range(10000):\n",
    "    x = np.random.normal(0,1,np.shape(unknown_indexes)[0])\n",
    "    simu = Ec + np.matmul(Cholesky,x)\n",
    "    if np.any(simu>0):\n",
    "        n+=1\n",
    "print(f\"Le taux de rejet est de {n/10000}.\")"
   ]
  },
  {
   "cell_type": "markdown",
   "metadata": {},
   "source": [
    "## Approche Bayésienne\n",
    "\n",
    "Dans la première partie, on a considéré que l'ensemble des paramètres du modèle était parfaitement connu. Toutes choses égales par ailleurs, on va maintenant considérer que la moyenne $\\mu$ est issue d'une estimation entâchée d'une incertitude. Plus précisément, on va modéliser cette incertitude en considérant que $\\mu \\sim \\mathcal{N}(-5,4)$.\n",
    "\n",
    "On va également décomposer le vecteur $\\mathbf{Z}$ en $\\mathbf{Z} = (\\mathbf{Z}_{\\text{OBS}},\\mathbf{Z}_{\\text{UNK}})$. On notera $C_{\\text{OBS}}$ et $C_{\\text{UNK}}$ les matrices de covariance respectives de $\\mathbf{Z}_{\\text{OBS}}$ et $\\mathbf{Z}_{\\text{UNK}}$ ainsi que $C_{\\text{OBS},\\text{UNK}}$ la matrice des covariances entre ces deux vecteurs.\n",
    "\n",
    "### Questions théoriques\n",
    "\n",
    "3. Montrer que $\\mu | \\mathbf{Z}_{\\text{OBS}}= \\mathbf{z}_{\\text{OBS}} \\sim \\mathcal{N}(\\widehat{\\mu},\\widehat{\\sigma}^2)$ avec\n",
    "$$\\widehat{\\sigma}^2 = (\\mathbf{1}^t C_{\\text{OBS}}^{-1} \\mathbf{1} + \\frac1{4})^{-1},$$ \n",
    "où $\\mathbf{1}$ est un vecteur de longueur 6 (soit la longueur du vecteur $\\mathbf{Z}_{\\text{OBS}}$) ne contenant que des 1 et \n",
    "$$\\widehat{\\mu} = \\widehat{\\sigma}^2 (\\mathbf{1}^t C_{\\text{OBS}}^{-1} \\mathbf{z}_{\\text{OBS}} - \\frac{5}{4} )$$\n",
    "Indication : écrire la densité jointe du vecteur $(\\mathbf{Z}_{\\text{OBS}},\\mu)$, calculer $-2 \\ln$ de cette densité puis identifier la forme quadratique faisant intervenir $\\mu$."
   ]
  },
  {
   "cell_type": "markdown",
   "metadata": {},
   "source": [
    "#### Réponse :\n",
    "\n",
    "On a $\\quad f_{\\mu, \\, \\mathbf{Z}_{\\text{OBS}}}(\\mu^\\star, \\mathbf{z}_{\\text{OBS}}) = f_{\\mathbf{Z}_{\\text{OBS}}|\\mu=\\mu^\\star}(\\mathbf{z}_{\\text{OBS}}) \\, f_{\\mu}(\\mu^\\star)$.\n",
    "\n",
    "\n",
    "Avec $$\n",
    "\\begin{array}{rcl}\n",
    "f_{\\mathbf{Z}_{\\text{OBS}}|\\mu = \\mu^\\star}(\\mathbf{z}_{\\text{OBS}}) & = & \\frac{1}{(2\\pi)^{\\frac{6}{2}} \\sqrt{\\text{det}C_{\\text{OBS}}}}\\exp \\left(-\\frac{1}{2}(\\mathbf{z}_{\\text{OBS}} - \\mathbf{1}\\mu^\\star)^tC_{\\text{OBS}}^{-1}(\\mathbf{z}_{\\text{OBS}} - \\mathbf{1}\\mu^\\star)\\right) \\\\\n",
    "f_{\\mu}(\\mu^\\star) & = &\\frac{1}{2\\sqrt{2\\pi}}\\exp\\left(-\\frac{(\\mu^\\star+5)^2}{8}\\right)\n",
    "\\end{array}\n",
    "$$\n",
    "\n",
    "D'où\n",
    "\n",
    "$$\n",
    "\\begin{array} {lcl} -2\\ln\\left(f_{\\mu, \\, \\mathbf{Z}_{\\text{OBS}}}(\\mu^\\star, \\mathbf{z}_{\\text{OBS}})\\right) & = & \\frac{(\\mu^\\star + 5)^2}{4} + (\\mathbf{z}_{\\text{OBS}} - \\mathbf{1}\\mu^\\star)^t C_{\\text{OBS}}^{-1}(\\mathbf{z}_{\\text{OBS}} - \\mathbf{1}\\mu^\\star) + 2\\ln\\left(2 (2\\pi)^{\\frac{7}{2}}\\sqrt{\\text{det}C_{\\text{OBS}}}\\right) \\\\ & = & \\frac{{\\mu^\\star}^2}{4} + \\frac{5}{2}\\mu^\\star + \\frac{25}{4} + (\\mathbf{z}_{\\text{OBS}})^tC_{\\text{OBS}}^{-1}\\mathbf{z}_{\\text{OBS}} + {\\mu^\\star}^2 \\mathbf{1}^t C_{\\text{OBS}}^{-1} \\mathbf{1} - 2\\mu^\\star \\mathbf{1}^t C_{\\text{OBS}}^{-1} \\mathbf{z}_{\\text{OBS}} + 2\\ln\\left(2 (2\\pi)^{\\frac{7}{2}}\\sqrt{\\text{det}C_{\\text{OBS}}}\\right) \\\\ && \\left(\\text{où} \\quad \\mathbf{1}^t C_{\\text{OBS}}^{-1} \\mathbf{z}_{\\text{OBS}} = \\mathbf{z}_{\\text{OBS}}^t C_{\\text{OBS}}^{-1} \\mathbf{1} \\quad \\text{car} \\quad C_{\\text{OBS}}^{-1} \\quad \\text{est symétrique}\\right) \\\\ &=& {\\mu^\\star}^2 \\left(\\frac{1}{4}+\\mathbf{1}^t C_{\\text{OBS}}^{-1}\\mathbf{1}\\right)-2\\mu^\\star\\left(\\mathbf{1}^t C_{\\text{OBS}}^{-1} \\mathbf{z}_{\\text{OBS}} - \\frac{5}{4}\\right) + \\frac{25}{4} + (\\mathbf{z}_{\\text{OBS}})^tC_{\\text{OBS}}^{-1}\\mathbf{z}_{\\text{OBS}} + 2\\ln\\left(2 (2\\pi)^{\\frac{7}{2}}\\sqrt{\\text{det}C_{\\text{OBS}}}\\right) \\\\ &=& \\frac{{\\mu^\\star}^2}{\\widehat{\\sigma}^2} - 2\\mu^\\star \\frac{\\widehat{\\mu}}{\\widehat{\\sigma}^2} + \\frac{{\\widehat{\\mu}}^2}{\\widehat{\\sigma}^2} - \\frac{{\\widehat{\\mu}}^2}{\\widehat{\\sigma}^2} +2\\ln\\left(\\widehat{\\sigma}\\sqrt{2\\pi}\\right)-2\\ln\\left(\\widehat{\\sigma}\\sqrt{2\\pi}\\right)+ \\frac{25}{4} + (\\mathbf{z}_{\\text{OBS}})^tC_{\\text{OBS}}^{-1}\\mathbf{z}_{\\text{OBS}} + 2\\ln\\left(2 (2\\pi)^{\\frac{7}{2}}\\sqrt{\\text{det}C_{\\text{OBS}}}\\right) \\\\ &=& -2ln\\left(\\frac{1}{\\widehat{\\sigma}\\sqrt{2\\pi}}\\exp\\left(-\\frac{(\\mu^\\star - \\widehat{\\mu})^2}{2\\widehat{\\sigma}^2}\\right)\\right) -2\\ln\\left(\\frac{\\widehat{\\sigma}\\sqrt{2\\pi \\exp\\left(\\frac{\\widehat{\\mu}^2}{\\widehat{\\sigma}^2}-\\frac{25}{4}-(\\mathbf{z}_{\\text{OBS}})^tC_{\\text{OBS}}^{-1}\\mathbf{z}_{\\text{OBS}}\\right)}}{2 (2\\pi)^{\\frac{7}{2}}\\sqrt{\\text{det}C_{\\text{OBS}}}}\\right) \\end{array}\n",
    "$$\n",
    "\n",
    "\n",
    "La dernière expression permet d'identifier les densités de $\\mu | \\mathbf{Z}_{\\text{OBS}}= \\mathbf{z}_{\\text{OBS}}$ et de $\\mathbf{Z}_{\\text{OBS}}$. On a alors bien $\\mu | \\mathbf{Z}_{\\text{OBS}}= \\mathbf{z}_{\\text{OBS}} \\sim \\mathcal{N}(\\widehat{\\mu},\\widehat{\\sigma}^2)$."
   ]
  },
  {
   "cell_type": "markdown",
   "metadata": {},
   "source": [
    "4. Montrer que si $X$, $Y$ et $Z$ sont trois vecteurs aléatoires à densité, alors $f_{X,Y|Z = z}(x,y) = f_{X|Y=y,Z=z}(x)f_{Y|Z=Z}(y)$"
   ]
  },
  {
   "cell_type": "markdown",
   "metadata": {},
   "source": [
    "#### Réponse :\n",
    "\n",
    "On a : $$\n",
    "\\begin{array}{lcl} f_{X|Y=y,Z=z}(x)f_{Y|Z=Z}(y)f_{Z}(z) &=& f_{X|Y=y,Z=z}(x) f_{Y,Z}(y,z) \\\\ &=& f_{X,Y,Z}(x,y,z) \\\\ &=& f_{X,Y|Z = z}(x,y)f_{Z}(z)\n",
    "\\end{array}\n",
    "$$\n",
    "\n",
    "D'où en divisant par $f_Z(z) \\neq 0 $ : $$\n",
    "f_{X,Y|Z = z}(x,y) = f_{X|Y=y,Z=z}(x)f_{Y|Z=Z}(y)\n",
    "$$"
   ]
  },
  {
   "cell_type": "markdown",
   "metadata": {},
   "source": [
    "5. En déduire que la densité de $(\\mathbf{Z}_{\\text{UNK}},\\mu) | \\mathbf{Z}_{\\text{OBS}} = \\mathbf{z}_{\\text{OBS}}$ s'écrit comme le produit de $f_{\\mu | \\mathbf{Z}_{\\text{OBS}} = \\mathbf{z}_{\\text{OBS}}}$ et de $f_{\\mathbf{Z}_{\\text{UNK}}| \\mu = \\mu^\\star, \\mathbf{Z}_{\\text{OBS}} = \\mathbf{z}_{\\text{OBS}}}$ que l'on exprimera.\n",
    "\n",
    "    Indication : $f_{\\mathbf{Z}_{\\text{UNK}}| \\mu = \\mu^\\star, \\mathbf{Z}_{\\text{OBS}} = \\mathbf{z}_{\\text{OBS}}}$ est identique à la densité $f_{\\mathbf{Z}_{\\text{UNK}}| \\mathbf{Z}_{\\text{OBS}} = \\mathbf{z}_{\\text{OBS}}}$ utilisée dans la partie 1 avec $\\mu = \\mu^\\star$"
   ]
  },
  {
   "cell_type": "markdown",
   "metadata": {},
   "source": [
    "#### Réponse :\n",
    "\n",
    "On applique l'égalité précédente avec $\\;X = \\mathbf{Z}_{\\text{UNK}}, \\quad Y = \\mu, \\quad Z = \\mathbf{Z}_{\\text{OBS}}\\; $ et on obtient : \n",
    "\n",
    "$$\n",
    "\\begin{array}{lcl} f_{(\\mathbf{Z}_{\\text{UNK}},\\mu) | \\mathbf{Z}_{\\text{OBS}} = \\mathbf{z}_{\\text{OBS}}}(\\mathbf{z}_{\\text{UNK}}, \\mu^\\star) &=& f_{\\mu | \\mathbf{Z}_{\\text{OBS}} = \\mathbf{z}_{\\text{OBS}}}(\\mu^\\star)f_{\\mathbf{Z}_{\\text{UNK}}| \\mu = \\mu^\\star, \\mathbf{Z}_{\\text{OBS}} = \\mathbf{z}_{\\text{OBS}}}(\\mathbf{z}_{\\text{UNK}}) \\\\ &=& \\frac{1}{\\widehat{\\sigma}\\sqrt{2\\pi}}\\exp\\left(-\\frac{(\\mu^\\star - \\widehat{\\mu})^2}{2\\widehat{\\sigma}^2}\\right) \\, \\frac{1}{(2\\pi)^{\\frac{N-6}{2}}\\sqrt{det(CS\\mathbf{Z}_{\\text{UNK}})}}\\exp\\left(-\\frac{1}{2}\\left(\\mathbf{z}_{\\text{UNK}}-\\psi\\left(\\mathbf{z}_{\\text{OBS}}\\right)\\right)^tCS\\mathbf{Z}_{\\text{UNK}}^{-1}\\right)\\left(\\mathbf{z}_{\\text{UNK}}-\\psi\\left(\\mathbf{z}_{\\text{OBS}}\\right)\\right)\n",
    "\\end{array}\n",
    "$$"
   ]
  },
  {
   "cell_type": "markdown",
   "metadata": {},
   "source": [
    "### Simulation\n",
    "\n",
    "On va maintenant chercher à simuler les valeurs de $\\mathbf{Z}_{\\text{UNK}}$ en tenant compte de l'incertitude sur $\\mu$.\n",
    "\n",
    "En première approche, on pourrait chercher à obtenir la densité de $\\mathbf{Z}_{\\text{UNK}} | \\mathbf{Z}_{\\text{OBS}} = \\mathbf{z}_{\\text{OBS}}$ en calculant \n",
    "$$\\int_\\mathbb{R} f_{(\\mathbf{Z}_{\\text{UNK}},\\mu) | \\mathbf{Z}_{\\text{OBS}} = \\mathbf{z}_{\\text{OBS}}}(\\mathbf{z}_{\\text{UNK}},\\mu^\\star) d\\mu^\\star$$\n",
    "mais ce calcul a peu de chances d'aboutir.\n",
    "\n",
    "On va plutôt procéder par simulations en cascade, c'est-à-dire que pour chaque simulation de $\\mathbf{Z}_{\\text{UNK}}$, on va d'abord générer une valeur $\\mu^\\star$ de $\\mu$ selon $f_{\\mu | \\mathbf{Z}_{\\text{OBS}}= \\mathbf{z}_{\\text{OBS}}}$ puis on simulera $\\mathbf{Z}_{\\text{UNK}}$ selon $f_{\\mathbf{Z}_{\\text{UNK}}| \\mathbf{Z}_{\\text{OBS}} = \\mathbf{z}_{\\text{OBS}},\\mu = \\mu^\\star}$.\n"
   ]
  },
  {
   "cell_type": "markdown",
   "metadata": {},
   "source": [
    "6. Calculer $\\widehat{\\mu}$ et $\\widehat{\\sigma}^2$. "
   ]
  },
  {
   "cell_type": "code",
   "execution_count": 29,
   "metadata": {},
   "outputs": [
    {
     "name": "stdout",
     "output_type": "stream",
     "text": [
      "1.5368909974762894 -4.291350330933772\n"
     ]
    }
   ],
   "source": [
    "from math import sqrt\n",
    "ones = np.ones(6)\n",
    "var_chap = 1/(np.matmul(np.transpose(ones),np.matmul(np.linalg.inv(SigmaObs),ones))+0.25)\n",
    "mu_chap = var_chap * (np.matmul(np.transpose(ones),np.matmul(np.linalg.inv(SigmaObs),depth))-1.25)\n",
    "sigma_chap = sqrt(var_chap)\n",
    "\n",
    "print(var_chap, mu_chap)"
   ]
  },
  {
   "cell_type": "markdown",
   "metadata": {},
   "source": [
    "7. Calculer la probabilité de $\\{\\mu| \\mathbf{Z}_{\\text{OBS}} = \\mathbf{z}_{\\text{OBS}} > 0\\}$. Proposer et implémenter un algorithme de simulation de $\\mu| \\mathbf{Z}_{\\text{OBS}} = \\mathbf{z}_{\\text{OBS}}, \\mu <0$."
   ]
  },
  {
   "cell_type": "code",
   "execution_count": 30,
   "metadata": {},
   "outputs": [
    {
     "name": "stdout",
     "output_type": "stream",
     "text": [
      "la probabilité rechéerchée est P = 0.000268522638816604\n"
     ]
    }
   ],
   "source": [
    "from scipy import stats as sps\n",
    "from math import sqrt\n",
    "p = 1 - sps.norm.cdf(0, loc = mu_chap, scale = sigma_chap)\n",
    "print(f\"la probabilité rechéerchée est P = {p}\")"
   ]
  },
  {
   "cell_type": "code",
   "execution_count": 31,
   "metadata": {},
   "outputs": [
    {
     "data": {
      "image/png": "[encoded data removed]",
      "text/plain": [
       "<Figure size 432x288 with 1 Axes>"
      ]
     },
     "metadata": {
      "needs_background": "light"
     },
     "output_type": "display_data"
    }
   ],
   "source": [
    "# Méthode de rejet pour assurer mu < 0\n",
    "s = np.random.normal(mu_chap, sigma_chap, 1000)\n",
    "while np.any(s>0):\n",
    "    s = np.random.normal(mu_chap, sigma_chap, 1000)\n",
    "plt.hist(s, 50, density=True)\n",
    "plt.title(\"Simulation de mu | Zobs, mu <0\")\n",
    "plt.show;"
   ]
  },
  {
   "cell_type": "markdown",
   "metadata": {},
   "source": [
    "8. Générer un couple $\\mathbf{Z}_{\\text{UNK}}, \\mu| \\mathbf{Z}_{\\text{OBS}}, \\mu <0$ et représenter le profil de profondeur obtenu. On prendra soin de ne générer que des valeurs négatives de $\\mathbf{Z}_{\\text{UNK}}$ en utilisant l'algorithme de la section précédente."
   ]
  },
  {
   "cell_type": "code",
   "execution_count": 32,
   "metadata": {},
   "outputs": [],
   "source": [
    "# On génère d'abord une valeur de mu (respectant mu < 0) selon f_{mu|Z_obs = z_obs}\n",
    "mu = np.random.normal(mu_chap, sigma_chap)\n",
    "while mu > 0:\n",
    "    mu = np.random.normal(mu_chap, sigma_chap)\n",
    "\n",
    "# Puis on génère un profil de profondeur à partir de cette valeur de mu\n",
    "Ec = mu + np.matmul(np.transpose(SigmaObsUnknown),np.matmul(np.linalg.inv(SigmaObs),depth-mu))\n",
    "simu = np.ones(np.shape(unknown_indexes))\n",
    "while np.any((simu > 0)) :\n",
    "    x = np.random.normal(0,1,np.shape(unknown_indexes)[0])\n",
    "    simu = Ec + np.matmul(Cholesky,x)"
   ]
  },
  {
   "cell_type": "code",
   "execution_count": 33,
   "metadata": {},
   "outputs": [
    {
     "data": {
      "image/png": "[encoded data removed]",
      "text/plain": [
       "<Figure size 432x288 with 1 Axes>"
      ]
     },
     "metadata": {
      "needs_background": "light"
     },
     "output_type": "display_data"
    }
   ],
   "source": [
    "allval3 = np.zeros(N)\n",
    "allval3[unknown_indexes]=simu\n",
    "allval3[observation_indexes]=depth\n",
    "plt.plot(discretization,allval3)\n",
    "plt.plot(discretization,allval1)\n",
    "plt.plot(discretization[observation_indexes], depth, 'ro')\n",
    "plt.show();"
   ]
  },
  {
   "cell_type": "markdown",
   "metadata": {},
   "source": [
    "9. Générer 10000 profils de profondeur et calculer les longueurs de câble associées. Comparer la valeur moyenne de la longueur de câble, dont on visualisera la convergence, l'histogramme des longueurs de câble, l'intervalle de confiance obtenu par la méthode des quantiles, la probabilité de dépassement du seuil de 525 m avec les résultats obtenus précédemment. Commenter."
   ]
  },
  {
   "cell_type": "code",
   "execution_count": 34,
   "metadata": {},
   "outputs": [],
   "source": [
    "result3 = np.zeros(K)\n",
    "for i in range(K):\n",
    "    mu = np.random.normal(mu_chap, sigma_chap)\n",
    "    while mu > 0:\n",
    "        mu = np.random.normal(mu_chap, sigma_chap)\n",
    "    Ec = mu + np.matmul(np.transpose(SigmaObsUnknown),np.matmul(np.linalg.inv(SigmaObs),depth-mu))\n",
    "    simu = np.ones(np.shape(unknown_indexes))\n",
    "    while np.any((simu > 0)) :\n",
    "        x = np.random.normal(0,1,np.shape(unknown_indexes)[0])\n",
    "        simu = Ec + np.matmul(Cholesky,x)\n",
    "    allval3[unknown_indexes]= simu\n",
    "    result3[i]=length(allval3,Delta)"
   ]
  },
  {
   "cell_type": "code",
   "execution_count": 35,
   "metadata": {},
   "outputs": [
    {
     "data": {
      "text/plain": [
       "521.6867625579474"
      ]
     },
     "execution_count": 35,
     "metadata": {},
     "output_type": "execute_result"
    }
   ],
   "source": [
    "sum(result3)/K"
   ]
  },
  {
   "cell_type": "code",
   "execution_count": 36,
   "metadata": {},
   "outputs": [
    {
     "data": {
      "image/png": "[encoded data removed]",
      "text/plain": [
       "<Figure size 432x288 with 1 Axes>"
      ]
     },
     "metadata": {
      "needs_background": "light"
     },
     "output_type": "display_data"
    }
   ],
   "source": [
    "indice_simu = 1+np.arange(K)\n",
    "plt.plot(indice_simu,np.cumsum(result3)/indice_simu, color = \"red\", label = \"approche Bayésienne\")\n",
    "plt.plot(indice_simu,np.cumsum(result2)/indice_simu, color = \"blue\", label = \"approche précédente\")\n",
    "plt.ylim((521.4, 522))\n",
    "plt.legend()\n",
    "plt.show()"
   ]
  },
  {
   "cell_type": "code",
   "execution_count": 37,
   "metadata": {},
   "outputs": [
    {
     "data": {
      "image/png": "[encoded data removed]",
      "text/plain": [
       "<Figure size 432x288 with 1 Axes>"
      ]
     },
     "metadata": {
      "needs_background": "light"
     },
     "output_type": "display_data"
    }
   ],
   "source": [
    "plt.hist(result3,50,density=True, histtype = 'step', color = \"red\", label = \"approche Bayésienne\")\n",
    "plt.hist(result2,50,density=True, histtype = 'step', color = \"blue\", label = \"approche précédente\")\n",
    "plt.legend()\n",
    "plt.show()"
   ]
  },
  {
   "cell_type": "code",
   "execution_count": 38,
   "metadata": {},
   "outputs": [
    {
     "name": "stdout",
     "output_type": "stream",
     "text": [
      "l'intervalle de confiance pour la simulation bayésienne est [516.44854919 527.48768688]\n",
      "l'intervalle de confiance pour la simulation précédente est [516.57515121 527.55979611]\n"
     ]
    }
   ],
   "source": [
    "qb = np.quantile(result3,[0.025,0.975])\n",
    "qc = np.quantile(result2,[0.025,0.975])\n",
    "print(f\"l'intervalle de confiance pour la simulation bayésienne est {qb}\")\n",
    "print(f\"l'intervalle de confiance pour la simulation précédente est {qc}\")"
   ]
  },
  {
   "cell_type": "code",
   "execution_count": 39,
   "metadata": {},
   "outputs": [
    {
     "name": "stdout",
     "output_type": "stream",
     "text": [
      "La probabilité de dépassement de 525m pour la simulation bayésienne est 0.1213\n",
      "La probabilité de dépassement de 525m pour la simulation précédente est 0.1304\n"
     ]
    }
   ],
   "source": [
    "pb = np.mean(result3>525)\n",
    "pc = np.mean(result2>525)\n",
    "print(f\"La probabilité de dépassement de 525m pour la simulation bayésienne est {pb}\")\n",
    "print(f\"La probabilité de dépassement de 525m pour la simulation précédente est {pc}\")"
   ]
  },
  {
   "cell_type": "markdown",
   "metadata": {},
   "source": [
    "Commentaire : L'approche bayésienne consistant à rendre $\\mu$ aléatoire aboutit à une estimation de la longueur du câble encore inféireure."
   ]
  },
  {
   "cell_type": "markdown",
   "metadata": {},
   "source": [
    "10. Qu'adviendrait-il selon vous si on rendait également aléatoires les autres paramètres du modèle $\\sigma^2$ et $a$ ?"
   ]
  },
  {
   "cell_type": "markdown",
   "metadata": {},
   "source": [
    "#### Réponse :\n",
    "\n",
    "On peut imaginer que cela amplifierait le résultat déjà observé sur l'approche bayésienne et que la longueur estimée du câble serait encore inférieure."
   ]
  },
  {
   "cell_type": "markdown",
   "metadata": {},
   "source": [
    "11. (facultatif) On suppose désormais que $\\alpha = \\frac1{\\sigma^2} \\sim \\Gamma(a_1,a_2)$, où $\\sigma^2$ correspond au paramètre qui intervient dans la fonction $C$. Donner l'expression de la densité de $\\alpha | \\mathbf{Z}_{\\text{OBS}} = \\mathbf{z}_{\\text{OBS}}$,  de $\\mu | \\alpha, \\mathbf{Z}_{\\text{OBS}} = \\mathbf{z}_{\\text{OBS}},$ et de $\\mathbf{Z}_{\\text{UNK}} | \\mu, \\alpha, \\mathbf{Z}_{\\text{OBS}} = \\mathbf{z}_{\\text{OBS}}$. Proposer un algorithme de simulation tenant compte de l'incertitude sur le paramètre $\\alpha$ et analyser son impact sur les différentes quantités évaluées.\n",
    "\n",
    "    Indication : Pour identifier la densité de $\\alpha | \\mathbf{Z}_{\\text{OBS}} = \\mathbf{z}_{\\text{OBS}}$, exprimer d'abord la densité jointe de $(\\alpha,\\mu, \\mathbf{Z}_{\\text{OBS}})$ puis marginaliser pour obtenir la densité de $(\\alpha,\\mathbf{Z}_{\\text{OBS}})$\n"
   ]
  },
  {
   "cell_type": "markdown",
   "metadata": {},
   "source": [
    "#### Réponse\n",
    "\n",
    "On a $$\n",
    "f_{\\alpha | \\mathbf{Z}_{\\text{OBS}} = \\mathbf{z}_{\\text{OBS}}}(\\alpha^\\star) = f_{\\alpha}(\\alpha^\\star) \\frac{f_{\\mathbf{Z}_{\\text{OBS}}|\\alpha = \\alpha^\\star}(\\mathbf{z}_{\\text{OBS}})}{f_{\\mathbf{Z}_{\\text{OBS}}}(\\mathbf{z}_{\\text{OBS}})}\n",
    "$$\n",
    "\n",
    "Où l'expression de $f_{\\mathbf{Z}_{\\text{OBS}}=\\mathbf{z}_{\\text{OBS}}}$ a été calculée à la question 3.\n",
    "On a ainsi :\n",
    "$$\n",
    "f_{\\alpha | \\mathbf{Z}_{\\text{OBS}} = \\mathbf{z}_{\\text{OBS}}}(\\alpha^\\star) = C \\alpha^{a_1-1} e^{-a_2\\alpha} \\frac{\\widehat{\\sigma} \\exp\\left(\\frac{\\widehat{\\mu}^2 - (\\mathbf{z}_{\\text{OBS}})^tC_{\\text{OBS}}^{-1}\\mathbf{z}_{\\text{OBS}}}{2}\\right)}{\\sqrt{\\text{det}C_{\\text{OBS}}}} \\quad \\text{où C est une constante.}\n",
    "$$\n",
    "\n",
    "La connaissance à un facteur près de $f_{\\alpha | \\mathbf{Z}_{\\text{OBS}} = \\mathbf{z}_{\\text{OBS}}}$ n'empêche pas d'appliquer la méthode de rejet pour simuler un tirage suivant cette loi.\n",
    "\n",
    "La première étape de la méthode de rejet est de trouver une densité usuelle g telle que $f_{\\alpha | \\mathbf{Z}_{\\text{OBS}} = \\mathbf{z}_{\\text{OBS}}} < C'g$. Nous recherchons cette densité graphiquement."
   ]
  },
  {
   "cell_type": "code",
   "execution_count": 40,
   "metadata": {},
   "outputs": [],
   "source": [
    "\"\"\"def Covexp2(alpha):\n",
    "    sigma = 1/alpha\n",
    "    array = np.expand_dims(np.exp(-distmat/a), axis=0)\n",
    "    array = np.tile(array, (sigma.size,1,1))\n",
    "    for i, val in enumerate(sigma):\n",
    "        array[i, :]*=val\n",
    "    return array # tentative pour vectoriser...\n",
    "\"\"\"\n",
    "def SigmaObs(alpha):\n",
    "    Sigma=Covexp(distmat, a, 1/alpha)\n",
    "    return Sigma[observation_indexes,:][:,observation_indexes]\n",
    "\n",
    "def VarChap(alpha):\n",
    "    Sigma_Obs = SigmaObs(alpha)\n",
    "    Var_Chap = 1/(np.matmul(np.transpose(ones),np.matmul(np.linalg.inv(Sigma_Obs),ones))+0.25)\n",
    "    return np.abs(Var_Chap)\n",
    "\n",
    "def MuChap(alpha):\n",
    "    Sigma_Obs = SigmaObs(alpha)\n",
    "    Var_Chap = VarChap(alpha)\n",
    "    Mu_Chap = Var_Chap * (np.matmul(np.transpose(ones),np.matmul(np.linalg.inv(Sigma_Obs),depth))-1.25)\n",
    "    return Mu_Chap"
   ]
  },
  {
   "cell_type": "code",
   "execution_count": 54,
   "metadata": {},
   "outputs": [],
   "source": [
    "a1, a2 = 3, 36 # Choix des paramètres de la loi gamma pour garder une espérance de 1/12"
   ]
  },
  {
   "cell_type": "code",
   "execution_count": 42,
   "metadata": {},
   "outputs": [],
   "source": [
    "def density(alpha):\n",
    "    Sigma_Obs = SigmaObs(alpha)\n",
    "    Var_Chap = VarChap(alpha)\n",
    "    Mu_Chap = MuChap(alpha)\n",
    "    Sigma_Chap = np.sqrt(Var_Chap)\n",
    "    \n",
    "    y = np.power(alpha, a1-1)*np.exp(-alpha*a2)\n",
    "    y = y*Sigma_Chap*np.exp(0.5*(Mu_Chap**2/Var_Chap)-0.5*np.matmul(np.transpose(depth),np.matmul(np.linalg.inv(Sigma_Obs),depth)))\n",
    "    y = y/np.sqrt(np.linalg.det(Sigma_Obs))\n",
    "\n",
    "    return y"
   ]
  },
  {
   "cell_type": "code",
   "execution_count": 43,
   "metadata": {},
   "outputs": [
    {
     "data": {
      "image/png": "[encoded data removed]",
      "text/plain": [
       "<Figure size 432x288 with 1 Axes>"
      ]
     },
     "metadata": {
      "needs_background": "light"
     },
     "output_type": "display_data"
    }
   ],
   "source": [
    "from scipy.stats import norm, gamma\n",
    "alpha=np.arange(0.001,0.3,0.001)\n",
    "y = np.copy(alpha)\n",
    "for i, val in enumerate(alpha): # Pas réussi à vectoriser ici car un vecteur de matrices n'existe pas sur numpy\n",
    "    y[i]=density(val)\n",
    "plt.plot(alpha, y*10**8)\n",
    "plt.plot(alpha, 2*gamma.pdf(alpha, 0.5, 0.0001), 'r-');\n",
    "plt.title(\"majoration par une densité de loi gamma\");"
   ]
  },
  {
   "cell_type": "code",
   "execution_count": 44,
   "metadata": {},
   "outputs": [
    {
     "data": {
      "image/png": "[encoded data removed]",
      "text/plain": [
       "<Figure size 432x288 with 1 Axes>"
      ]
     },
     "metadata": {
      "needs_background": "light"
     },
     "output_type": "display_data"
    }
   ],
   "source": [
    "plt.plot(alpha, y*10**9)\n",
    "plt.plot(alpha, 5*norm.pdf(alpha, 0.045, 0.03), 'r-');\n",
    "plt.title(\"majoration par une densité de loi normale\");"
   ]
  },
  {
   "cell_type": "markdown",
   "metadata": {},
   "source": [
    "Nous décidons de retenir la majoration par une loi normale de paramètre $\\mu = 0.045, \\sigma = 0,03$ qui semble aboutir à un taux de rejet relativement faible."
   ]
  },
  {
   "cell_type": "code",
   "execution_count": 45,
   "metadata": {},
   "outputs": [],
   "source": [
    "def generation_alpha(): # algorithme de rejet\n",
    "    alpha = np.random.normal(0.045, 0.03)\n",
    "    u = np.random.uniform()\n",
    "    while density(alpha) < u*5*10**(-10)*norm.pdf(alpha, 0.045, 0.03) or alpha < 0 :\n",
    "        alpha = np.random.normal(0.045, 0.03)\n",
    "        u = np.random.uniform()\n",
    "    return alpha"
   ]
  },
  {
   "cell_type": "code",
   "execution_count": 46,
   "metadata": {},
   "outputs": [],
   "source": [
    "def taux_rejet(): # calcul du taux de rejet\n",
    "    alpha = np.random.normal(0.045, 0.03)\n",
    "    u = np.random.uniform()\n",
    "    r=0\n",
    "    while density(alpha) < u*5*10**(-10)*norm.pdf(alpha, 0.045, 0.03) or alpha < 0 :\n",
    "        alpha = np.random.normal(0.045, 0.03)\n",
    "        u = np.random.uniform()\n",
    "        r+=1\n",
    "    return r"
   ]
  },
  {
   "cell_type": "code",
   "execution_count": 47,
   "metadata": {},
   "outputs": [
    {
     "name": "stdout",
     "output_type": "stream",
     "text": [
      "Le taux de rejet pour la génération de alpha est 0.1354\n"
     ]
    }
   ],
   "source": [
    "M = 5000\n",
    "s=0\n",
    "for k in range(M):\n",
    "    alpha = taux_rejet()\n",
    "    s+=alpha\n",
    "print(f\"Le taux de rejet pour la génération de alpha est {s/M}\")"
   ]
  },
  {
   "cell_type": "markdown",
   "metadata": {},
   "source": [
    "On a $ \\mu | \\alpha = \\alpha^\\star, \\mathbf{Z}_{\\text{OBS}} = \\mathbf{z}_{\\text{OBS}} \\sim \\mathcal{N}\\left(\\widehat{\\mu}(\\alpha^\\star),\\widehat{\\sigma}^2(\\alpha^\\star)\\right)$. Ayant généré $\\alpha$, on peut ensuite générer $\\mu$ en calculant $\\widehat{\\mu}(\\alpha^\\star)$ et $\\widehat{\\sigma}(\\alpha^\\star)$."
   ]
  },
  {
   "cell_type": "code",
   "execution_count": 48,
   "metadata": {},
   "outputs": [],
   "source": [
    "def generation_mu(alpha):\n",
    "    var_chap = VarChap(alpha)\n",
    "    sigma_chap = sqrt(var_chap)\n",
    "    mu_chap = MuChap(alpha)\n",
    "    mu = np.random.normal(mu_chap, sigma_chap)\n",
    "    return mu"
   ]
  },
  {
   "cell_type": "markdown",
   "metadata": {},
   "source": [
    "Enfin, connaissant $\\alpha$ et $\\mu$, $\\mathbf{Z}_{\\text{UNK}}$ suit la même loi normale déjà donnée dans la partie 1 ainsi que la question 5, de paramètres dépendant de $\\alpha$ et $\\mu$. On peut donc générer un profil de profondeur !"
   ]
  },
  {
   "cell_type": "code",
   "execution_count": 49,
   "metadata": {},
   "outputs": [],
   "source": [
    "alpha = generation_alpha()\n",
    "mu = generation_mu(alpha)\n",
    "while mu > 0: # On n'oublie pas d'appliquer un rejet sur mu.\n",
    "    mu = generation_mu(alpha)\n",
    "        \n",
    "Sigma=Covexp(distmat, a, 1/alpha)\n",
    "Sigma_Obs = Sigma[observation_indexes,:][:,observation_indexes]\n",
    "SigmaObsUnknown = Sigma[observation_indexes,:][:,unknown_indexes]\n",
    "SigmaUnknown = Sigma[unknown_indexes,:][:,unknown_indexes]\n",
    "Ec = mu + np.matmul(np.transpose(SigmaObsUnknown),np.matmul(np.linalg.inv(Sigma_Obs),depth-mu))\n",
    "SigmaCond = SigmaUnknown - np.matmul(np.transpose(SigmaObsUnknown),np.matmul(np.linalg.inv(Sigma_Obs),SigmaObsUnknown))\n",
    "Cholesky = np.linalg.cholesky(SigmaCond)\n",
    "\n",
    "simu = np.ones(np.shape(unknown_indexes))\n",
    "while np.any((simu > 0)) :\n",
    "    x = np.random.normal(0,1,np.shape(unknown_indexes)[0])\n",
    "    simu = Ec + np.matmul(Cholesky,x)"
   ]
  },
  {
   "cell_type": "code",
   "execution_count": 50,
   "metadata": {},
   "outputs": [
    {
     "data": {
      "image/png": "[encoded data removed]",
      "text/plain": [
       "<Figure size 432x288 with 1 Axes>"
      ]
     },
     "metadata": {
      "needs_background": "light"
     },
     "output_type": "display_data"
    }
   ],
   "source": [
    "allval3 = np.zeros(N)\n",
    "allval3[unknown_indexes]=simu\n",
    "allval3[observation_indexes]=depth\n",
    "plt.plot(discretization,allval3)\n",
    "plt.plot(discretization,allval1)\n",
    "plt.plot(discretization[observation_indexes], depth, 'ro')\n",
    "plt.title(\"profil de profondeur obtenu\")\n",
    "plt.show();"
   ]
  },
  {
   "cell_type": "markdown",
   "metadata": {},
   "source": [
    "Générons maintenant 10 000 profils de profondeur et comparons le résultat avec les approches précédentes."
   ]
  },
  {
   "cell_type": "code",
   "execution_count": 51,
   "metadata": {},
   "outputs": [],
   "source": [
    "result4 = np.zeros(K)\n",
    "for i in range(K):\n",
    "    alpha = generation_alpha()\n",
    "    mu = generation_mu(alpha)\n",
    "    while mu > 0:\n",
    "        mu = generation_mu(alpha)\n",
    "        \n",
    "    Sigma=Covexp(distmat, a, 1/alpha)\n",
    "    Sigma_Obs = Sigma[observation_indexes,:][:,observation_indexes]\n",
    "    SigmaObsUnknown = Sigma[observation_indexes,:][:,unknown_indexes]\n",
    "    SigmaUnknown = Sigma[unknown_indexes,:][:,unknown_indexes]\n",
    "    Ec = mu + np.matmul(np.transpose(SigmaObsUnknown),np.matmul(np.linalg.inv(Sigma_Obs),depth-mu))\n",
    "    SigmaCond = SigmaUnknown - np.matmul(np.transpose(SigmaObsUnknown),np.matmul(np.linalg.inv(Sigma_Obs),SigmaObsUnknown))\n",
    "    Cholesky = np.linalg.cholesky(SigmaCond)\n",
    "\n",
    "    simu = np.ones(np.shape(unknown_indexes))\n",
    "    while np.any((simu > 0)) :\n",
    "        x = np.random.normal(0,1,np.shape(unknown_indexes)[0])\n",
    "        simu = Ec + np.matmul(Cholesky,x)\n",
    "    allval3[unknown_indexes]= simu\n",
    "    result4[i]=length(allval3,Delta)"
   ]
  },
  {
   "cell_type": "code",
   "execution_count": 52,
   "metadata": {},
   "outputs": [
    {
     "data": {
      "image/png": "[encoded data removed]",
      "text/plain": [
       "<Figure size 432x288 with 1 Axes>"
      ]
     },
     "metadata": {
      "needs_background": "light"
     },
     "output_type": "display_data"
    }
   ],
   "source": [
    "indice_simu = 1+np.arange(K)\n",
    "plt.plot(indice_simu,np.cumsum(result3)/indice_simu, color = \"red\", label = \"approche Bayésienne\")\n",
    "plt.plot(indice_simu,np.cumsum(result4)/indice_simu, color = \"blue\", label = \"alpha aléatoire\")\n",
    "plt.ylim((500, 550))\n",
    "plt.legend()\n",
    "plt.show()"
   ]
  },
  {
   "cell_type": "code",
   "execution_count": 53,
   "metadata": {},
   "outputs": [
    {
     "data": {
      "text/plain": [
       "541.1999613117383"
      ]
     },
     "execution_count": 53,
     "metadata": {},
     "output_type": "execute_result"
    }
   ],
   "source": [
    "sum(result4)/K"
   ]
  },
  {
   "cell_type": "markdown",
   "metadata": {},
   "source": [
    "Nous obtenons une longueur de câble plus grande, ce qui va contre notre intuition première. Le choix des paramètres $a_1, a_2$ de la loi gamma donnant $\\alpha$ est probablement très impactant sur le résultat. Or il n'est malheureusement pas possible de tester un grand nombre de ces paramètres car cela demande à chaque fois de retrouver graphiquement et à la main une densité usuelle convenable pour la majoration dans la méthode de rejet."
   ]
  },
  {
   "cell_type": "code",
   "execution_count": null,
   "metadata": {},
   "outputs": [],
   "source": []
  }
 ],
 "metadata": {
  "@webio": {
   "lastCommId": "5ceb69a5bbd14071b254c2439a58ac4b",
   "lastKernelId": "0e923419-c540-42c1-ab5f-d0e05ff4521c"
  },
  "kernelspec": {
   "display_name": "Python 3",
   "language": "python",
   "name": "python3"
  },
  "language_info": {
   "codemirror_mode": {
    "name": "ipython",
    "version": 3
   },
   "file_extension": ".py",
   "mimetype": "text/x-python",
   "name": "python",
   "nbconvert_exporter": "python",
   "pygments_lexer": "ipython3",
   "version": "3.8.5"
  }
 },
 "nbformat": 4,
 "nbformat_minor": 2
}
